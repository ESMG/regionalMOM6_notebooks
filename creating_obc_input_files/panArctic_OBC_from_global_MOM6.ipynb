{
 "cells": [
  {
   "cell_type": "code",
   "execution_count": 25,
   "metadata": {},
   "outputs": [],
   "source": [
    "import xarray as xr\n",
    "import xesmf\n",
    "import matplotlib.pyplot as plt\n",
    "import bottleneck\n",
    "import numpy as np\n",
    "import subprocess as sp\n",
    "import os\n",
    "import glob\n",
    "import cartopy.crs as ccrs"
   ]
  },
  {
   "cell_type": "markdown",
   "metadata": {},
   "source": [
    "# Create OBC files using MOM6-based boundary conditions\n",
    "\n",
    "This example uses monthly output from an OM4_025-based simulation in order to generate\n",
    "boundary conditions for a Pan-Arctic configuration. Ocean current vectors from a staggered\n",
    "C-grid are co-located at q-points (corners). The grid rotation angles contained in the \n",
    "MOM6 supergrid files are used to align the currents with the target regional grid.\n",
    "\n",
    "### Required files\n",
    "    * Parent model supergrid file\n",
    "    * Region model supergrid file and bathymetry\n",
    "    * Parent model data"
   ]
  },
  {
   "cell_type": "markdown",
   "metadata": {},
   "source": [
    "### Step 1: Open parent and regional model grids"
   ]
  },
  {
   "cell_type": "code",
   "execution_count": 26,
   "metadata": {},
   "outputs": [],
   "source": [
    "def open_grid(path,decode_times=False):\n",
    "    \"\"\"Return a grid object containing staggered grid locations\"\"\"\n",
    "    grid={}\n",
    "    grid['ds']=xr.open_dataset(path,decode_times=False)\n",
    "    grid['ds']=grid['ds'].drop_dims(['ny','nx'])\n",
    "    grid['ds']=grid['ds'].drop_vars(['tile'])\n",
    "    grid['nyp']=grid['ds'].nyp.data[-1]+1\n",
    "    grid['nxp']=grid['ds'].nxp.data[-1]+1\n",
    "    nxp=grid['nxp'];nyp=grid['nyp']\n",
    "    grid['h'] = grid['ds'].isel(nxp=slice(1,nxp+1,2),nyp=slice(1,nyp+1,2))\n",
    "    #The q grid is not symmetric, but Cu and Cv are\n",
    "    grid['q'] = grid['ds'].isel(nxp=slice(2,nxp+1,2),nyp=slice(2,nyp+1,2))\n",
    "    grid['Cu'] = grid['ds'].isel(nxp=slice(0,nxp+1,2),nyp=slice(1,nyp+1,2))\n",
    "    grid['Cv'] = grid['ds'].isel(nxp=slice(1,nxp+1,2),nyp=slice(0,nyp+1,2))\n",
    "    return grid"
   ]
  },
  {
   "cell_type": "code",
   "execution_count": 27,
   "metadata": {},
   "outputs": [],
   "source": [
    "#Note that parent grid uv values are symmetric\n",
    "path_parent_grid='/net2/mjh/ipynb/OM4_025/c192_mosaic/ocean_hgrid.nc'\n",
    "parent_grid=open_grid(path_parent_grid)\n",
    "path_regional_grid='./ocean_hgrid.nc'\n",
    "regional_grid=open_grid(path_regional_grid)"
   ]
  },
  {
   "cell_type": "markdown",
   "metadata": {},
   "source": [
    "### Step 2: Open parent model data and merge respective grids"
   ]
  },
  {
   "cell_type": "code",
   "execution_count": 28,
   "metadata": {},
   "outputs": [],
   "source": [
    "def open_dataset(path,fields,grid):\n",
    "    ds=xr.open_dataset(path,decode_times=False)\n",
    "    \n",
    "    tracer_list=[];uv_list=[]\n",
    "    for f in fields:\n",
    "        for fnam,val in zip(f.keys(),f.values()):\n",
    "            if val=='h':tracer_list.append(fnam)\n",
    "            if val=='Cu':uv_list.append(fnam)\n",
    "            if val=='Cv':uv_list.append(fnam)\n",
    "                \n",
    "    ds_tr = xr.merge([ds, grid['h']])\n",
    "    ds_u= xr.merge([ds,grid['Cu']])\n",
    "    ds_v= xr.merge([ds,grid['Cv']])\n",
    "    return {'ds_tr':ds_tr,'ds_u':ds_u,'ds_v':ds_v,'tracers':tracer_list,'uv':uv_list}"
   ]
  },
  {
   "cell_type": "code",
   "execution_count": 29,
   "metadata": {},
   "outputs": [],
   "source": [
    "path_model_data='../data/20120101.ocean_month.nc'\n",
    "fields=[{'temp':'h'},{'salt':'h'},{'ssh':'h'},{'u':'Cu'},{'v':'Cv'}]\n",
    "model_data = open_dataset(path_model_data,fields,parent_grid)"
   ]
  },
  {
   "cell_type": "markdown",
   "metadata": {},
   "source": [
    "### Remap velocities to q corners"
   ]
  },
  {
   "cell_type": "code",
   "execution_count": 30,
   "metadata": {},
   "outputs": [],
   "source": [
    "def velocity_at_corners(ds_u,ds_v):\n",
    "    nxp=ds_u.nxp[-1].data+1;nyp=ds_v.nyp[-1].data+1\n",
    "    #upper-right q points\n",
    "    u_q=0.5*(ds_u.u+ds_u.u.roll(roll_coords='yh',yh=-1)).isel(xq=slice(1,nxp))\n",
    "    #upper-right q points\n",
    "    v_q=0.5*(ds_v.v+ds_v.v.roll(roll_coords='xh',xh=-1)).isel(yq=slice(1,nyp))\n",
    "    ds_uvq = xr.Dataset({'u':u_q,'v':v_q},coords={'time':ds_u.time,'lon':parent_grid['q'].x,'lat':parent_grid['q'].y,'angle_dx':parent_grid['q'].angle_dx})\n",
    "    return ds_uvq"
   ]
  },
  {
   "cell_type": "markdown",
   "metadata": {},
   "source": [
    "### Calculate corner velocities for a single time-slice"
   ]
  },
  {
   "cell_type": "code",
   "execution_count": 31,
   "metadata": {},
   "outputs": [],
   "source": [
    "\n",
    "ds_u=model_data['ds_u'];ds_v=model_data['ds_v']\n",
    "model_data['ds_uv']=velocity_at_corners(ds_u.isel(time=slice(0,1)),ds_v.isel(time=slice(0,1)))"
   ]
  },
  {
   "cell_type": "code",
   "execution_count": null,
   "metadata": {},
   "outputs": [],
   "source": [
    "model_data['ds_uv']"
   ]
  },
  {
   "cell_type": "code",
   "execution_count": 32,
   "metadata": {},
   "outputs": [],
   "source": [
    "def apply_rotation(u,v,angle_dx,time_slice=slice(0)):\n",
    "    \"\"\"Rotate from model space to easterly coordinates\"\"\"\n",
    "    deg_rad=np.pi/180.    \n",
    "    \n",
    "    if time_slice is not None:\n",
    "        t=u.time.isel(time=time_slice)\n",
    "    else:\n",
    "        t=u.time\n",
    "        \n",
    "    if time_slice is not None:\n",
    "        ue=np.cos(angle_dx.data*deg_rad)*u.isel(time=time_slice).data-np.sin(angle_dx.data*deg_rad)*v.isel(time=time_slice).data\n",
    "        vn=np.sin(angle_dx.data*deg_rad)*u.isel(time=time_slice).data+np.cos(angle_dx.data*deg_rad)*v.isel(time=time_slice).data  \n",
    "    else:\n",
    "        ue=np.cos(angle_dx.data*deg_rad)*u.data-np.sin(angle_dx.data*deg_rad)*v.data\n",
    "        vn=np.sin(angle_dx.data*deg_rad)*u.data+np.cos(angle_dx.data*deg_rad)*v.data  \n",
    "        \n",
    "    us=ue.shape\n",
    "    nyp=us[2];nxp=us[3]\n",
    "    ue=xr.DataArray(ue,coords={'i':np.arange(1,nxp+1),'j':np.arange(1,nyp+1),'time':t,'z_l':u.z_l},dims=('time','z_l','j','i'))\n",
    "    vn=xr.DataArray(vn,coords={'i':np.arange(1,nxp+1),'j':np.arange(1,nyp+1),'time':t,'z_l':u.z_l},dims=('time','z_l','j','i'))\n",
    "        \n",
    "\n",
    "    return ue,vn\n"
   ]
  },
  {
   "cell_type": "code",
   "execution_count": 33,
   "metadata": {},
   "outputs": [],
   "source": [
    "def apply_rotation_transpose(ue,vn,angle_dx,time_slice=slice(0)):\n",
    "    \"\"\"Rotate from easterly coordinates to model space\"\"\"\n",
    "    deg_rad=np.pi/180.\n",
    "    \n",
    "    if time_slice is not None:\n",
    "        t=ue.time.isel(time=time_slice)\n",
    "    else:\n",
    "        t=ue.time\n",
    "\n",
    "    if time_slice is not None:\n",
    "        u=np.cos(angle_dx.data*deg_rad)*ue.isel(time=time_slice).data+np.sin(angle_dx.data*deg_rad)*vn.isel(time=time_slice).data\n",
    "        v=-np.sin(angle_dx.data*deg_rad)*ue.isel(time=time_slice).data+np.cos(angle_dx.data*deg_rad)*vn.isel(time=time_slice).data\n",
    "    else:\n",
    "        u=np.cos(angle_dx.data*deg_rad)*ue.data+np.sin(angle_dx.data*deg_rad)*vn.data\n",
    "        v=-np.sin(angle_dx.data*deg_rad)*ue.data+np.cos(angle_dx.data*deg_rad)*vn.data\n",
    "    nyp=u.shape[2]\n",
    "      \n",
    "    u=xr.DataArray(u,coords={'i':np.arange(1,nyp+1),'time':t,'z_l':ue.z_l},dims=('time','z_l','i'))\n",
    "    v=xr.DataArray(v,coords={'i':np.arange(1,nyp+1),'time':t,'z_l':ue.z_l},dims=('time','z_l','i'))\n",
    "\n",
    "\n",
    "        \n",
    "    return u,v"
   ]
  },
  {
   "cell_type": "markdown",
   "metadata": {},
   "source": [
    "### Rotate currents"
   ]
  },
  {
   "cell_type": "code",
   "execution_count": 34,
   "metadata": {},
   "outputs": [],
   "source": [
    "\n",
    "ds_uvq=model_data['ds_uv']\n",
    "uq_rot,vq_rot= apply_rotation(ds_uvq.u,ds_uvq.v,ds_uvq.angle_dx,time_slice=None)\n",
    "ds_uvq_r = xr.Dataset({'u':uq_rot,'v':vq_rot},coords={'time':ds_uvq.time,'lon':ds_uvq.lon,'lat':ds_uvq.lat})\n",
    "model_data['ds_uv_r']=ds_uvq_r"
   ]
  },
  {
   "cell_type": "code",
   "execution_count": null,
   "metadata": {},
   "outputs": [],
   "source": [
    "ds_uvq_r.u.isel(z_l=0).plot(vmin=-.2,vmax=.2,cmap='bwr')\n",
    "title=plt.title('True zonal current')"
   ]
  },
  {
   "cell_type": "code",
   "execution_count": 35,
   "metadata": {},
   "outputs": [],
   "source": [
    "def uvmag(u,v,z_slice=0):\n",
    "    spd=np.sqrt(np.squeeze(u.isel(z_l=z_slice).data**2.0 + v.isel(z_l=z_slice).data**2))\n",
    "    return xr.DataArray(spd,coords={'i':u.i.data,'j':u.j.data},dims=('j','i'))\n",
    "    "
   ]
  },
  {
   "cell_type": "code",
   "execution_count": null,
   "metadata": {},
   "outputs": [],
   "source": [
    "uvmag_r = uvmag(ds_uvq_r.u,ds_uvq_r.v)\n",
    "plt.pcolormesh(parent_grid['q'].x,parent_grid['q'].y,uvmag_r.data,vmin=0.001,vmax=0.2)\n",
    "plt.xlim(-120,60)\n",
    "plt.ylim(50,90)\n",
    "title=plt.title('Rotated current magnituge')"
   ]
  },
  {
   "cell_type": "code",
   "execution_count": 15,
   "metadata": {},
   "outputs": [],
   "source": [
    "ds_regional=regional_grid['ds']\n",
    "north = xr.Dataset()\n",
    "north['lon'] = ds_regional['x'].isel(nyp=-1)\n",
    "north['lat'] = ds_regional['y'].isel(nyp=-1)\n",
    "\n",
    "# southern boundary\n",
    "south = xr.Dataset()\n",
    "south['lon'] = ds_regional['x'].isel(nyp=0)\n",
    "south['lat'] = ds_regional['y'].isel(nyp=0)\n",
    "\n",
    "# western boundary\n",
    "west = xr.Dataset()\n",
    "west['lon'] = ds_regional['x'].isel(nxp=0)\n",
    "west['lat'] = ds_regional['y'].isel(nxp=0)\n",
    "\n",
    "# eastern boundary\n",
    "east = xr.Dataset()\n",
    "east['lon'] = ds_regional['x'].isel(nxp=-1)\n",
    "east['lat'] = ds_regional['y'].isel(nxp=-1)"
   ]
  },
  {
   "cell_type": "code",
   "execution_count": 16,
   "metadata": {},
   "outputs": [],
   "source": [
    "ds_tr=model_data['ds_tr']\n",
    "ds_tr = xr.Dataset({'temp':ds_tr.temp,'salt':ds_tr.salt},coords={'lon':ds_tr.x,'lat':ds_tr.y})"
   ]
  },
  {
   "cell_type": "code",
   "execution_count": null,
   "metadata": {},
   "outputs": [],
   "source": [
    "regrid_north_uv = xesmf.Regridder(ds_uvq_r, north, 'nearest_s2d', \n",
    "                               locstream_out=True, periodic=False, filename='regrid_north_uv.nc')\n",
    "regrid_south_uv = xesmf.Regridder(ds_uvq_r, south, 'nearest_s2d', \n",
    "                               locstream_out=True, periodic=False, filename='regrid_south_uv.nc')\n",
    "regrid_east_uv = xesmf.Regridder(ds_uvq_r, east, 'nearest_s2d', \n",
    "                               locstream_out=True, periodic=False, filename='regrid_east_uv.nc')\n",
    "regrid_west_uv = xesmf.Regridder(ds_uvq_r, west, 'nearest_s2d', \n",
    "                               locstream_out=True, periodic=False, filename='regrid_west_uv.nc')"
   ]
  },
  {
   "cell_type": "code",
   "execution_count": null,
   "metadata": {},
   "outputs": [],
   "source": [
    "regrid_north_tr = xesmf.Regridder(ds_tr, north, 'nearest_s2d', \n",
    "                               locstream_out=True, periodic=False, filename='regrid_north_tr.nc')\n",
    "regrid_south_tr = xesmf.Regridder(ds_tr, south, 'nearest_s2d', \n",
    "                               locstream_out=True, periodic=False, filename='regrid_south_tr.nc')\n",
    "regrid_west_tr = xesmf.Regridder(ds_tr, west, 'nearest_s2d', \n",
    "                               locstream_out=True, periodic=False, filename='regrid_west_tr.nc')"
   ]
  },
  {
   "cell_type": "code",
   "execution_count": 19,
   "metadata": {},
   "outputs": [],
   "source": [
    "ntime=ds_tr.temp.shape[0]\n",
    "for i in range(ntime):\n",
    "    uq_rot,vq_rot= apply_rotation(ds_uvq.u,ds_uvq.v,ds_uvq.angle_dx,time_slice=slice(i,i+1))\n",
    "    ds_uvq_r = xr.Dataset({'u':uq_rot,'v':vq_rot},coords={'lon':ds_uvq.lon,'lat':ds_uvq.lat})  \n",
    "    u_north_r = regrid_north_uv(ds_uvq_r['u'])\n",
    "    v_north_r = regrid_north_uv(ds_uvq_r['v'])\n",
    "    u_south_r = regrid_south_uv(ds_uvq_r['u'])\n",
    "    v_south_r = regrid_south_uv(ds_uvq_r['v'])\n",
    "    u_west_r = regrid_west_uv(ds_uvq_r['u'])\n",
    "    v_west_r = regrid_west_uv(ds_uvq_r['v'])\n",
    "    u_north,v_north=apply_rotation_transpose(u_north_r,v_north_r,ds_regional.angle_dx.isel(nyp=ds_regional.nyp[-1]),time_slice=None)\n",
    "    ds_uv_north = xr.Dataset({'u':u_north,'v':v_north},coords={'lon':north.lon,'lat':north.lat,'z_l':ds_uvq.z_l})\n",
    "    ds_uv_north.time.attrs['calendar']='gregorian'\n",
    "    fnam='uv_north_'+str(i).zfill(2)+'.nc'\n",
    "    ds_uv_north.to_netcdf(fnam,unlimited_dims='time',format='NETCDF3_CLASSIC')\n",
    "    u_south,v_south=apply_rotation_transpose(u_south_r,v_south_r,ds_regional.angle_dx.isel(nyp=ds_regional.nyp[0]),time_slice=None)\n",
    "    ds_uv_south = xr.Dataset({'u':u_south,'v':v_south},coords={'lon':south.lon,'lat':south.lat,'z_l':ds_uvq.z_l})\n",
    "    fnam='uv_south_'+str(i).zfill(2)+'.nc'\n",
    "    ds_uv_south.time.attrs['calendar']='gregorian'\n",
    "    ds_uv_south.to_netcdf(fnam,unlimited_dims='time',format='NETCDF3_CLASSIC')\n",
    "    u_west,v_west=apply_rotation_transpose(u_west_r,v_west_r,ds_regional.angle_dx.isel(nxp=ds_regional.nxp[0]),time_slice=None)\n",
    "    ds_uv_west = xr.Dataset({'u':u_west,'v':v_west},coords={'lon':west.lon,'lat':west.lat,'z_l':ds_uvq.z_l})\n",
    "    fnam='uv_west_'+str(i).zfill(2)+'.nc'\n",
    "    ds_uv_west.time.attrs['calendar']='gregorian'\n",
    "    ds_uv_west.to_netcdf(fnam,unlimited_dims='time',format='NETCDF3_CLASSIC')"
   ]
  },
  {
   "cell_type": "code",
   "execution_count": null,
   "metadata": {},
   "outputs": [],
   "source": [
    "sp.run(['nccatm','uv_north_*.nc'],shell=True,check=True)\n",
    "sp.run(['nccatm','uv_souh_*.nc'],shell=True,check=True)\n",
    "sp.run(['nccatm','uv_west_*.nc'],shell=True,check=True)"
   ]
  },
  {
   "cell_type": "code",
   "execution_count": null,
   "metadata": {},
   "outputs": [],
   "source": [
    "sp.run(['mv','uv_north_00.nc','uv_north.nc'])\n",
    "sp.run(['mv','uv_south_00.nc','uv_south.nc'])\n",
    "sp.run(['mv','uv_west_00.nc','uv_west.nc'])\n"
   ]
  },
  {
   "cell_type": "code",
   "execution_count": 23,
   "metadata": {},
   "outputs": [],
   "source": [
    "for fl in glob.glob('uv_*_*.nc'):\n",
    "    os.remove(fl)"
   ]
  },
  {
   "cell_type": "code",
   "execution_count": 145,
   "metadata": {},
   "outputs": [],
   "source": [
    "ds_uv_south=xr.open_dataset('uv_south.nc')"
   ]
  },
  {
   "cell_type": "code",
   "execution_count": null,
   "metadata": {},
   "outputs": [],
   "source": [
    "fig=plt.figure(1)\n",
    "ds_uv_south.v.isel(time=6).plot(yincrease=False,vmin=-.1,vmax=.1,cmap='bwr')\n",
    "plt.ylim(5000,0)\n"
   ]
  },
  {
   "cell_type": "code",
   "execution_count": 24,
   "metadata": {},
   "outputs": [],
   "source": [
    "for i in range(ntime):\n",
    "    temp_north = regrid_north_tr(ds_tr['temp'])\n",
    "    salt_north = regrid_north_tr(ds_tr['salt'])\n",
    "    ds_tr_north = xr.Dataset({'temp':temp_north,'salt':salt_north})\n",
    "    ds_tr_north.time.attrs['calendar']='gregorian'\n",
    "    fnam='tracers_north_'+str(i).zfill(2)+'.nc'\n",
    "    ds_tr_north.to_netcdf(fnam,unlimited_dims='time',format='NETCDF3_CLASSIC')\n",
    "    temp_south = regrid_south_tr(ds_tr['temp'])\n",
    "    salt_south = regrid_south_tr(ds_tr['salt'])\n",
    "    ds_tr_south = xr.Dataset({'temp':temp_south,'salt':salt_south})\n",
    "    ds_tr_south.time.attrs['calendar']='gregorian'\n",
    "    fnam='tracers_south_'+str(i).zfill(2)+'.nc'\n",
    "    ds_tr_south.to_netcdf(fnam,unlimited_dims='time',format='NETCDF3_CLASSIC')\n",
    "    temp_west = regrid_west_tr(ds_tr['temp'])\n",
    "    salt_west = regrid_west_tr(ds_tr['salt'])\n",
    "    ds_tr_west = xr.Dataset({'temp':temp_west,'salt':salt_west})\n",
    "    ds_tr_west.time.attrs['calendar']='gregorian'\n",
    "    fnam='tracers_west_'+str(i).zfill(2)+'.nc'\n",
    "    ds_tr_west.to_netcdf(fnam,unlimited_dims='time',format='NETCDF3_CLASSIC')\n",
    "    "
   ]
  },
  {
   "cell_type": "code",
   "execution_count": null,
   "metadata": {},
   "outputs": [],
   "source": [
    "sp.run(['nccatm','tracers_north_*.nc'],shell=True,check=True)\n",
    "sp.run(['mv','tracers_north_00.nc','tracers_north.nc'])\n",
    "sp.run(['nccatm','tracers_north_*.nc'],shell=True,check=True)\n",
    "sp.run(['mv','tracers_south_00.nc','tracers_south.nc'])\n",
    "sp.run(['nccatm','tracers_west_*.nc'],shell=True,check=True)\n",
    "sp.run(['mv','tracers_west_00.nc','tracers_west.nc'])"
   ]
  },
  {
   "cell_type": "code",
   "execution_count": 192,
   "metadata": {},
   "outputs": [],
   "source": [
    "for fl in glob.glob('tracers_*_*.nc'):\n",
    "    os.remove(fl)"
   ]
  },
  {
   "cell_type": "code",
   "execution_count": null,
   "metadata": {},
   "outputs": [],
   "source": [
    "fig=ds_tr_north.isel(time=2).plot(figsize=[8, 6], yincrease=False, cmap='jet')\n",
    "plt.ylim(200,0)"
   ]
  },
  {
   "cell_type": "code",
   "execution_count": 321,
   "metadata": {},
   "outputs": [],
   "source": [
    "ds_n=xr.open_dataset('tracers_north.nc')\n",
    "ds_s=xr.open_dataset('tracers_south.nc')\n",
    "ds_w=xr.open_dataset('tracers_west.nc')"
   ]
  },
  {
   "cell_type": "code",
   "execution_count": 344,
   "metadata": {},
   "outputs": [],
   "source": [
    "nps = ccrs.Stereographic(true_scale_latitude=60., central_latitude=90.,central_longitude=0.)\n",
    "bering= ccrs.LambertConformal(central_latitude = 60, \n",
    "                             central_longitude = -140, \n",
    "                             standard_parallels = (60, 60))\n",
    "barents= ccrs.LambertConformal(central_latitude = 50, \n",
    "                             central_longitude = -30, \n",
    "                             standard_parallels = (60, 60))"
   ]
  },
  {
   "cell_type": "code",
   "execution_count": 447,
   "metadata": {},
   "outputs": [],
   "source": [
    "dsr_topo=xr.open_dataset('bathy.nc')\n",
    "dsr_topo=dsr_topo.drop_vars(['x','y','max','min','std','count'])\n",
    "dsr_topo=dsr_topo.rename_dims({'x':'nx','y':'ny'})\n",
    "dsr_topo=dsr_topo.rename({'mean':'elevation'})"
   ]
  },
  {
   "cell_type": "code",
   "execution_count": 448,
   "metadata": {},
   "outputs": [],
   "source": [
    "dsr_topo = xr.merge([dsr_topo, regional_grid['h']])"
   ]
  },
  {
   "cell_type": "code",
   "execution_count": null,
   "metadata": {},
   "outputs": [],
   "source": [
    "dsr_topo"
   ]
  },
  {
   "cell_type": "code",
   "execution_count": null,
   "metadata": {},
   "outputs": [],
   "source": [
    "dsr_topo.elevation.plot(vmax=0.,vmin=-1000.,cmap='jet')"
   ]
  },
  {
   "cell_type": "code",
   "execution_count": null,
   "metadata": {},
   "outputs": [],
   "source": [
    "ax = plt.axes(projection=bering)\n",
    "ax.coastlines()\n",
    "extent = [-190,-120, 50,70]\n",
    "ax.set_extent(extent)\n",
    "lons=north.lon.data\n",
    "lons[lons>180]=lons[lons>180]-360.\n",
    "ax.pcolormesh(dsr_topo.x,dsr_topo.y,np.ma.masked_where(dsr_topo.elevation>0,-dsr_topo.elevation),vmin=0,vmax=500.,transform=ccrs.PlateCarree(),cmap='jet')\n",
    "ax.plot(lons, north.lat, transform = ccrs.PlateCarree(),color='k')\n",
    "lons=west.lon.data\n",
    "lons[lons>0]=lons[lons>0]-360.\n",
    "ax.plot(lons, west.lat, transform = ccrs.PlateCarree(),color='k')\n",
    "lons=east.lon.data\n",
    "lons[lons>180]=lons[lons>180]-360.\n",
    "ax.plot(lons, east.lat, transform = ccrs.PlateCarree(),color='k')"
   ]
  },
  {
   "cell_type": "code",
   "execution_count": null,
   "metadata": {},
   "outputs": [],
   "source": [
    "ax = plt.axes(projection=barents)\n",
    "ax.coastlines()\n",
    "#extent = [-190,-120, 50,70]\n",
    "extent = [-80,30, 40,90]\n",
    "#extent = [-180,180, 40,90]\n",
    "ax.set_extent(extent)\n",
    "lons=south.lon.data\n",
    "lons[lons>180]=lons[lons>180]-360.\n",
    "ax.pcolormesh(dsr_topo.x,dsr_topo.y,np.ma.masked_where(dsr_topo.elevation>0,-dsr_topo.elevation),vmin=0,vmax=500.,transform=ccrs.PlateCarree(),cmap='jet')\n",
    "ax.plot(lons, south.lat, transform = ccrs.PlateCarree(),color='k')\n",
    "lons=west.lon.data\n",
    "lons[lons>0]=lons[lons>0]-360.\n",
    "ax.plot(lons, west.lat, transform = ccrs.PlateCarree(),color='k')\n",
    "lons=east.lon.data\n",
    "lons[lons>180]=lons[lons>180]-360.\n",
    "ax.plot(lons, east.lat, transform = ccrs.PlateCarree(),color='k')\n",
    "lons=north.lon.data\n",
    "lons[lons>180]=lons[lons>180]-360.\n",
    "ax.plot(lons, north.lat, transform = ccrs.PlateCarree(),color='k')"
   ]
  },
  {
   "cell_type": "code",
   "execution_count": null,
   "metadata": {},
   "outputs": [],
   "source": []
  }
 ],
 "metadata": {
  "kernelspec": {
   "display_name": "Python 3",
   "language": "python",
   "name": "python3"
  },
  "language_info": {
   "codemirror_mode": {
    "name": "ipython",
    "version": 3
   },
   "file_extension": ".py",
   "mimetype": "text/x-python",
   "name": "python",
   "nbconvert_exporter": "python",
   "pygments_lexer": "ipython3",
   "version": "3.8.2"
  }
 },
 "nbformat": 4,
 "nbformat_minor": 4
}
